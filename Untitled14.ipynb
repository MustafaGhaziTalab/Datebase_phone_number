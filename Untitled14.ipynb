{
  "nbformat": 4,
  "nbformat_minor": 0,
  "metadata": {
    "colab": {
      "provenance": [],
      "authorship_tag": "ABX9TyMDfN+zorrSbgUs6BGiq6TK",
      "include_colab_link": true
    },
    "kernelspec": {
      "name": "python3",
      "display_name": "Python 3"
    },
    "language_info": {
      "name": "python"
    }
  },
  "cells": [
    {
      "cell_type": "markdown",
      "metadata": {
        "id": "view-in-github",
        "colab_type": "text"
      },
      "source": [
        "<a href=\"https://colab.research.google.com/github/MustafaGhaziTalab/Datebase_phone_number/blob/main/Untitled14.ipynb\" target=\"_parent\"><img src=\"https://colab.research.google.com/assets/colab-badge.svg\" alt=\"Open In Colab\"/></a>"
      ]
    },
    {
      "cell_type": "code",
      "source": [
        "import requests\n",
        "\n",
        "def fetch_data(url):\n",
        "    response = requests.get(url)\n",
        "    if response.status_code == 200:\n",
        "        return response.text.splitlines()\n",
        "    else:\n",
        "        raise Exception(f\"Failed to fetch data, status code: {response.status_code}\")\n",
        "\n",
        "def build_tree(data):\n",
        "    bst = BinarySearchTree()\n",
        "    for line in data[1:]:  # Skipping the header\n",
        "        parts = line.split(',')\n",
        "        if len(parts) == 4:  # Expecting 4 pieces of data per line\n",
        "            name, phone_number, whatsapp_number, email = parts\n",
        "            bst.root = bst.insert(bst.root, name, phone_number, whatsapp_number, email)\n",
        "        else:\n",
        "            raise ValueError(f\"Line has an unexpected number of fields: {line}\")\n",
        "    return bst\n",
        "\n",
        "# URL of the data on GitHub\n",
        "url = 'your_github_data_url'\n",
        "\n",
        "# Fetch and build the BST\n",
        "try:\n",
        "    data = fetch_data(url)\n",
        "    bst = build_tree(data)\n",
        "except Exception as e:\n",
        "    print(e)\n",
        "\n",
        "# Assuming that the rest of the BST code is implemented correctly\n"
      ],
      "metadata": {
        "colab": {
          "base_uri": "https://localhost:8080/"
        },
        "id": "TAlWRlDkbjbG",
        "outputId": "61bc369d-e828-4b42-faf2-7ce7169c1e4e"
      },
      "execution_count": 12,
      "outputs": [
        {
          "output_type": "stream",
          "name": "stdout",
          "text": [
            "Invalid URL 'your_github_data_url': No scheme supplied. Perhaps you meant https://your_github_data_url?\n"
          ]
        }
      ]
    },
    {
      "cell_type": "code",
      "source": [
        "def update_contact(bst, name_to_update, new_phone_number, new_whatsapp_number, new_email):\n",
        "    # Find the contact\n",
        "    contact = bst.search(bst.root, name_to_update)\n",
        "    if contact is not None:\n",
        "        # Update the contact's information\n",
        "        contact.phone_number = new_phone_number\n",
        "        contact.whatsapp_number = new_whatsapp_number\n",
        "        contact.email = new_email\n",
        "        return True\n",
        "    else:\n",
        "        return False\n",
        "\n",
        "# Example of updating a contact\n",
        "update_successful = update_contact(bst, \"Michael Thompson\", \"new_phone_number\", \"new_whatsapp_number\", \"new_email\")\n",
        "print(\"Update Successful:\", update_successful)\n"
      ],
      "metadata": {
        "colab": {
          "base_uri": "https://localhost:8080/"
        },
        "id": "W9tCmkGFb9OW",
        "outputId": "1bfda683-957d-4258-da96-26dd58c12721"
      },
      "execution_count": 13,
      "outputs": [
        {
          "output_type": "stream",
          "name": "stdout",
          "text": [
            "Update Successful: False\n"
          ]
        }
      ]
    },
    {
      "cell_type": "code",
      "source": [
        "def delete_contact(bst, name_to_delete):\n",
        "    # This function will need to handle the BST deletion logic,\n",
        "    # which includes finding the node, handling if the node has children, etc.\n",
        "    # This is a placeholder for the delete logic.\n",
        "    pass\n",
        "\n",
        "# Example of deleting a contact\n",
        "delete_successful = delete_contact(bst, \"Michael Thompson\")\n",
        "print(\"Delete Successful:\", delete_successful)\n"
      ],
      "metadata": {
        "colab": {
          "base_uri": "https://localhost:8080/"
        },
        "id": "s4olzu7ScEgh",
        "outputId": "0c11f7d4-e018-4327-f654-4a0bc101f4ca"
      },
      "execution_count": 14,
      "outputs": [
        {
          "output_type": "stream",
          "name": "stdout",
          "text": [
            "Delete Successful: None\n"
          ]
        }
      ]
    }
  ]
}